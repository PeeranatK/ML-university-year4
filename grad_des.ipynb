{
  "cells": [
    {
      "cell_type": "markdown",
      "metadata": {
        "id": "view-in-github",
        "colab_type": "text"
      },
      "source": [
        "<a href=\"https://colab.research.google.com/github/PeeranatK/ML-university-year4/blob/main/grad_des.ipynb\" target=\"_parent\"><img src=\"https://colab.research.google.com/assets/colab-badge.svg\" alt=\"Open In Colab\"/></a>"
      ]
    },
    {
      "cell_type": "code",
      "execution_count": null,
      "id": "84dd2f47-4d52-4fe5-81b1-6798ed2dcf0e",
      "metadata": {
        "colab": {
          "base_uri": "https://localhost:8080/"
        },
        "id": "84dd2f47-4d52-4fe5-81b1-6798ed2dcf0e",
        "outputId": "a8716e14-1598-4c91-c11e-73330a66237a"
      },
      "outputs": [
        {
          "output_type": "execute_result",
          "data": {
            "text/plain": [
              "Index(['TV', 'radio', 'newspaper', 'sales'], dtype='object')"
            ]
          },
          "metadata": {},
          "execution_count": 60
        }
      ],
      "source": [
        "import pandas as pd\n",
        "import numpy as np\n",
        "import matplotlib.pyplot as plt\n",
        "import seaborn as sns\n",
        "import random\n",
        "import math\n",
        "\n",
        "df=pd.read_csv('Advertising.csv', index_col = 0)\n",
        "df.columns"
      ]
    },
    {
      "cell_type": "code",
      "execution_count": null,
      "id": "40638276-e31c-41a7-a769-48359633d35f",
      "metadata": {
        "id": "40638276-e31c-41a7-a769-48359633d35f"
      },
      "outputs": [],
      "source": [
        "sel_program = 'newspaper'\n",
        "#X=df[['TV', 'radio', 'newspaper']]\n",
        "X=df[['radio']]\n",
        "Y=df['sales']\n",
        "Y=np.array((Y-Y.mean())/Y.std())\n",
        "#X = np.array((X-X.mean())/X.std())\n",
        "\n",
        "X=X.apply(lambda rec:(rec-rec.mean())/rec.std(),axis=0)"
      ]
    },
    {
      "cell_type": "code",
      "execution_count": null,
      "id": "f600d27a-7964-412e-bd36-3aeafa582b3f",
      "metadata": {
        "id": "f600d27a-7964-412e-bd36-3aeafa582b3f"
      },
      "outputs": [],
      "source": [
        "def initialize(dim):\n",
        "    b=random.random()\n",
        "    a=np.random.rand(dim)\n",
        "    return b,a"
      ]
    },
    {
      "cell_type": "code",
      "execution_count": null,
      "id": "cdaa0f71-0fdc-4bfe-9239-657c200e2d35",
      "metadata": {
        "id": "cdaa0f71-0fdc-4bfe-9239-657c200e2d35"
      },
      "outputs": [],
      "source": [
        "def predict_Y(b,a,X):\n",
        "    return b + np.dot(X,a)"
      ]
    },
    {
      "cell_type": "code",
      "execution_count": null,
      "id": "51e800ff-8b1e-4c61-9d17-4486d2499102",
      "metadata": {
        "id": "51e800ff-8b1e-4c61-9d17-4486d2499102"
      },
      "outputs": [],
      "source": [
        "def get_cost(Y,Y_hat):\n",
        "    Y_resd=Y-Y_hat\n",
        "    return np.sum(np.dot(Y_resd.T,Y_resd))/len(Y-Y_resd)"
      ]
    },
    {
      "cell_type": "code",
      "execution_count": null,
      "id": "745881b3-acdd-4ff8-971b-1f13dbb750ff",
      "metadata": {
        "id": "745881b3-acdd-4ff8-971b-1f13dbb750ff"
      },
      "outputs": [],
      "source": [
        "def update_theta(x,y,y_hat,b_0,theta_o,learning_rate):\n",
        "    db=(np.sum(y_hat-y)*2)/len(y)\n",
        "    dw=(np.dot((y_hat-y),x)*2)/len(y)\n",
        "    b_1=b_0-learning_rate*db\n",
        "    theta_1=theta_o-learning_rate*dw\n",
        "    return b_1,theta_1"
      ]
    },
    {
      "cell_type": "code",
      "execution_count": null,
      "id": "a69da9b3-c076-4d7b-be46-ad4424a8b408",
      "metadata": {
        "colab": {
          "base_uri": "https://localhost:8080/",
          "height": 419
        },
        "id": "a69da9b3-c076-4d7b-be46-ad4424a8b408",
        "outputId": "7fef7fdd-56c9-486a-fcb2-18ec2f8b9c4c"
      },
      "outputs": [
        {
          "output_type": "execute_result",
          "data": {
            "text/plain": [
              "     iteration   value_b  value_weight      cost\n",
              "0          0.0  0.931971      0.934275  1.701804\n",
              "1          1.0  0.913331      0.927150  1.660757\n",
              "2          2.0  0.895065      0.920166  1.621336\n",
              "3          3.0  0.877163      0.913322  1.583474\n",
              "4          4.0  0.859620      0.906614  1.547111\n",
              "..         ...       ...           ...       ...\n",
              "261      261.0  0.004780      0.578108  0.664655\n",
              "262      262.0  0.004684      0.578071  0.664654\n",
              "263      263.0  0.004591      0.578034  0.664653\n",
              "264      264.0  0.004499      0.577998  0.664652\n",
              "265      265.0  0.004409      0.577963  0.664651\n",
              "\n",
              "[266 rows x 4 columns]"
            ],
            "text/html": [
              "\n",
              "  <div id=\"df-1e0072f8-4841-4d4f-980f-0a0271378b4f\">\n",
              "    <div class=\"colab-df-container\">\n",
              "      <div>\n",
              "<style scoped>\n",
              "    .dataframe tbody tr th:only-of-type {\n",
              "        vertical-align: middle;\n",
              "    }\n",
              "\n",
              "    .dataframe tbody tr th {\n",
              "        vertical-align: top;\n",
              "    }\n",
              "\n",
              "    .dataframe thead th {\n",
              "        text-align: right;\n",
              "    }\n",
              "</style>\n",
              "<table border=\"1\" class=\"dataframe\">\n",
              "  <thead>\n",
              "    <tr style=\"text-align: right;\">\n",
              "      <th></th>\n",
              "      <th>iteration</th>\n",
              "      <th>value_b</th>\n",
              "      <th>value_weight</th>\n",
              "      <th>cost</th>\n",
              "    </tr>\n",
              "  </thead>\n",
              "  <tbody>\n",
              "    <tr>\n",
              "      <th>0</th>\n",
              "      <td>0.0</td>\n",
              "      <td>0.931971</td>\n",
              "      <td>0.934275</td>\n",
              "      <td>1.701804</td>\n",
              "    </tr>\n",
              "    <tr>\n",
              "      <th>1</th>\n",
              "      <td>1.0</td>\n",
              "      <td>0.913331</td>\n",
              "      <td>0.927150</td>\n",
              "      <td>1.660757</td>\n",
              "    </tr>\n",
              "    <tr>\n",
              "      <th>2</th>\n",
              "      <td>2.0</td>\n",
              "      <td>0.895065</td>\n",
              "      <td>0.920166</td>\n",
              "      <td>1.621336</td>\n",
              "    </tr>\n",
              "    <tr>\n",
              "      <th>3</th>\n",
              "      <td>3.0</td>\n",
              "      <td>0.877163</td>\n",
              "      <td>0.913322</td>\n",
              "      <td>1.583474</td>\n",
              "    </tr>\n",
              "    <tr>\n",
              "      <th>4</th>\n",
              "      <td>4.0</td>\n",
              "      <td>0.859620</td>\n",
              "      <td>0.906614</td>\n",
              "      <td>1.547111</td>\n",
              "    </tr>\n",
              "    <tr>\n",
              "      <th>...</th>\n",
              "      <td>...</td>\n",
              "      <td>...</td>\n",
              "      <td>...</td>\n",
              "      <td>...</td>\n",
              "    </tr>\n",
              "    <tr>\n",
              "      <th>261</th>\n",
              "      <td>261.0</td>\n",
              "      <td>0.004780</td>\n",
              "      <td>0.578108</td>\n",
              "      <td>0.664655</td>\n",
              "    </tr>\n",
              "    <tr>\n",
              "      <th>262</th>\n",
              "      <td>262.0</td>\n",
              "      <td>0.004684</td>\n",
              "      <td>0.578071</td>\n",
              "      <td>0.664654</td>\n",
              "    </tr>\n",
              "    <tr>\n",
              "      <th>263</th>\n",
              "      <td>263.0</td>\n",
              "      <td>0.004591</td>\n",
              "      <td>0.578034</td>\n",
              "      <td>0.664653</td>\n",
              "    </tr>\n",
              "    <tr>\n",
              "      <th>264</th>\n",
              "      <td>264.0</td>\n",
              "      <td>0.004499</td>\n",
              "      <td>0.577998</td>\n",
              "      <td>0.664652</td>\n",
              "    </tr>\n",
              "    <tr>\n",
              "      <th>265</th>\n",
              "      <td>265.0</td>\n",
              "      <td>0.004409</td>\n",
              "      <td>0.577963</td>\n",
              "      <td>0.664651</td>\n",
              "    </tr>\n",
              "  </tbody>\n",
              "</table>\n",
              "<p>266 rows × 4 columns</p>\n",
              "</div>\n",
              "      <button class=\"colab-df-convert\" onclick=\"convertToInteractive('df-1e0072f8-4841-4d4f-980f-0a0271378b4f')\"\n",
              "              title=\"Convert this dataframe to an interactive table.\"\n",
              "              style=\"display:none;\">\n",
              "        \n",
              "  <svg xmlns=\"http://www.w3.org/2000/svg\" height=\"24px\"viewBox=\"0 0 24 24\"\n",
              "       width=\"24px\">\n",
              "    <path d=\"M0 0h24v24H0V0z\" fill=\"none\"/>\n",
              "    <path d=\"M18.56 5.44l.94 2.06.94-2.06 2.06-.94-2.06-.94-.94-2.06-.94 2.06-2.06.94zm-11 1L8.5 8.5l.94-2.06 2.06-.94-2.06-.94L8.5 2.5l-.94 2.06-2.06.94zm10 10l.94 2.06.94-2.06 2.06-.94-2.06-.94-.94-2.06-.94 2.06-2.06.94z\"/><path d=\"M17.41 7.96l-1.37-1.37c-.4-.4-.92-.59-1.43-.59-.52 0-1.04.2-1.43.59L10.3 9.45l-7.72 7.72c-.78.78-.78 2.05 0 2.83L4 21.41c.39.39.9.59 1.41.59.51 0 1.02-.2 1.41-.59l7.78-7.78 2.81-2.81c.8-.78.8-2.07 0-2.86zM5.41 20L4 18.59l7.72-7.72 1.47 1.35L5.41 20z\"/>\n",
              "  </svg>\n",
              "      </button>\n",
              "      \n",
              "  <style>\n",
              "    .colab-df-container {\n",
              "      display:flex;\n",
              "      flex-wrap:wrap;\n",
              "      gap: 12px;\n",
              "    }\n",
              "\n",
              "    .colab-df-convert {\n",
              "      background-color: #E8F0FE;\n",
              "      border: none;\n",
              "      border-radius: 50%;\n",
              "      cursor: pointer;\n",
              "      display: none;\n",
              "      fill: #1967D2;\n",
              "      height: 32px;\n",
              "      padding: 0 0 0 0;\n",
              "      width: 32px;\n",
              "    }\n",
              "\n",
              "    .colab-df-convert:hover {\n",
              "      background-color: #E2EBFA;\n",
              "      box-shadow: 0px 1px 2px rgba(60, 64, 67, 0.3), 0px 1px 3px 1px rgba(60, 64, 67, 0.15);\n",
              "      fill: #174EA6;\n",
              "    }\n",
              "\n",
              "    [theme=dark] .colab-df-convert {\n",
              "      background-color: #3B4455;\n",
              "      fill: #D2E3FC;\n",
              "    }\n",
              "\n",
              "    [theme=dark] .colab-df-convert:hover {\n",
              "      background-color: #434B5C;\n",
              "      box-shadow: 0px 1px 3px 1px rgba(0, 0, 0, 0.15);\n",
              "      filter: drop-shadow(0px 1px 2px rgba(0, 0, 0, 0.3));\n",
              "      fill: #FFFFFF;\n",
              "    }\n",
              "  </style>\n",
              "\n",
              "      <script>\n",
              "        const buttonEl =\n",
              "          document.querySelector('#df-1e0072f8-4841-4d4f-980f-0a0271378b4f button.colab-df-convert');\n",
              "        buttonEl.style.display =\n",
              "          google.colab.kernel.accessAllowed ? 'block' : 'none';\n",
              "\n",
              "        async function convertToInteractive(key) {\n",
              "          const element = document.querySelector('#df-1e0072f8-4841-4d4f-980f-0a0271378b4f');\n",
              "          const dataTable =\n",
              "            await google.colab.kernel.invokeFunction('convertToInteractive',\n",
              "                                                     [key], {});\n",
              "          if (!dataTable) return;\n",
              "\n",
              "          const docLinkHtml = 'Like what you see? Visit the ' +\n",
              "            '<a target=\"_blank\" href=https://colab.research.google.com/notebooks/data_table.ipynb>data table notebook</a>'\n",
              "            + ' to learn more about interactive tables.';\n",
              "          element.innerHTML = '';\n",
              "          dataTable['output_type'] = 'display_data';\n",
              "          await google.colab.output.renderOutput(dataTable, element);\n",
              "          const docLink = document.createElement('div');\n",
              "          docLink.innerHTML = docLinkHtml;\n",
              "          element.appendChild(docLink);\n",
              "        }\n",
              "      </script>\n",
              "    </div>\n",
              "  </div>\n",
              "  "
            ]
          },
          "metadata": {},
          "execution_count": 68
        }
      ],
      "source": [
        "def run_gradient_descent(X,Y,alpha,num_iterations):\n",
        "    #tolerance = 1e-02\n",
        "    tolerance = 1e-06\n",
        "    b,theta=initialize(X.shape[1])\n",
        "\n",
        "    gd_iterations_df=pd.DataFrame(columns=['iteration','value_b', 'value_weight', 'cost'])\n",
        "    result_idx=0\n",
        "    old_cost=0\n",
        "\n",
        "    for iter_num in range(num_iterations):\n",
        "        Y_hat=predict_Y(b,theta,X)\n",
        "\n",
        "        this_cost=get_cost(Y,Y_hat)\n",
        "        prev_b=b\n",
        "        prev_theta=theta\n",
        "        b,theta=update_theta(X,Y,Y_hat,prev_b,prev_theta,alpha)\n",
        "        gd_iterations_df.loc[result_idx]=[iter_num,b, theta[0], this_cost]\n",
        "        result_idx=result_idx+1\n",
        "        if (abs(this_cost - old_cost) <= tolerance):\n",
        "            break\n",
        "        old_cost=this_cost\n",
        "    return gd_iterations_df,b,theta\n",
        "\n",
        "gd_iterations_df,b,theta=run_gradient_descent(X,Y,alpha=0.01,num_iterations=400)\n",
        "gd_iterations_df"
      ]
    },
    {
      "cell_type": "code",
      "execution_count": null,
      "id": "095c1e69-3f88-4216-93b1-937c2f660ec8",
      "metadata": {
        "id": "095c1e69-3f88-4216-93b1-937c2f660ec8"
      },
      "outputs": [],
      "source": [
        "#sns.scatterplot(data=gd_iterations_df, x=\"value_weight\", y=\"cost\")"
      ]
    },
    {
      "cell_type": "code",
      "execution_count": null,
      "id": "9de3d8f6-9405-435b-abbe-c358554c70a4",
      "metadata": {
        "colab": {
          "base_uri": "https://localhost:8080/"
        },
        "id": "9de3d8f6-9405-435b-abbe-c358554c70a4",
        "outputId": "28cadf3b-f663-4e2c-a54b-f8eaff90bdbc"
      },
      "outputs": [
        {
          "output_type": "execute_result",
          "data": {
            "text/plain": [
              "0.2326135879136799"
            ]
          },
          "metadata": {},
          "execution_count": 59
        }
      ],
      "source": [
        "idx = gd_iterations_df['cost'].argmin()\n",
        "best_parameters = gd_iterations_df.loc[idx, ['value_b', 'value_weight']]\n",
        "best_parameters['value_weight']\n"
      ]
    },
    {
      "cell_type": "code",
      "execution_count": null,
      "id": "deb46d54-f209-4117-a407-7df5128810d6",
      "metadata": {
        "id": "deb46d54-f209-4117-a407-7df5128810d6"
      },
      "outputs": [],
      "source": [
        "x = df[sel_program]\n",
        "y_ini = gd_iterations_df.loc[0, 'value_b'] + gd_iterations_df.loc[0, 'value_weight']*x\n",
        "y_hat = gd_iterations_df.loc[idx, 'value_b'] + gd_iterations_df.loc[idx, 'value_weight']*x"
      ]
    },
    {
      "cell_type": "code",
      "execution_count": null,
      "id": "38865ca8-ed4b-4b9d-b26e-0703690ed024",
      "metadata": {
        "id": "38865ca8-ed4b-4b9d-b26e-0703690ed024",
        "outputId": "c799165d-7640-4548-b6fe-63a3770a3fef"
      },
      "outputs": [
        {
          "data": {
            "image/png": "[encoded data removed]",
            "text/plain": [
              "<Figure size 640x480 with 1 Axes>"
            ]
          },
          "metadata": {},
          "output_type": "display_data"
        }
      ],
      "source": [
        "sns.scatterplot(data=df, x=sel_program, y=\"sales\")\n",
        "plt.plot( x,  y_ini, 'k', x, y_hat, 'r')\n",
        "plt.legend(['training data', 'predicted_sales with initial parameters',\n",
        "            'predicted_sales with best parameters'])\n",
        "plt.show()"
      ]
    },
    {
      "cell_type": "code",
      "execution_count": null,
      "id": "ac300611-97aa-4e94-8d58-c378b786babb",
      "metadata": {
        "id": "ac300611-97aa-4e94-8d58-c378b786babb"
      },
      "outputs": [],
      "source": []
    },
    {
      "cell_type": "code",
      "execution_count": null,
      "id": "bbcb8da2-200e-4f5e-bcc2-3f40335393b6",
      "metadata": {
        "id": "bbcb8da2-200e-4f5e-bcc2-3f40335393b6"
      },
      "outputs": [],
      "source": []
    }
  ],
  "metadata": {
    "kernelspec": {
      "display_name": "Python 3 (ipykernel)",
      "language": "python",
      "name": "python3"
    },
    "language_info": {
      "codemirror_mode": {
        "name": "ipython",
        "version": 3
      },
      "file_extension": ".py",
      "mimetype": "text/x-python",
      "name": "python",
      "nbconvert_exporter": "python",
      "pygments_lexer": "ipython3",
      "version": "3.9.13"
    },
    "colab": {
      "provenance": [],
      "include_colab_link": true
    }
  },
  "nbformat": 4,
  "nbformat_minor": 5
}