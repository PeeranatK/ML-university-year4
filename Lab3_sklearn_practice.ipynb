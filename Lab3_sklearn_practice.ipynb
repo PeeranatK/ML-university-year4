{
  "cells": [
    {
      "cell_type": "markdown",
      "metadata": {
        "id": "view-in-github",
        "colab_type": "text"
      },
      "source": [
        "<a href=\"https://colab.research.google.com/github/PeeranatK/ML-university-year4/blob/main/Lab3_sklearn_practice.ipynb\" target=\"_parent\"><img src=\"https://colab.research.google.com/assets/colab-badge.svg\" alt=\"Open In Colab\"/></a>"
      ]
    },
    {
      "cell_type": "code",
      "execution_count": null,
      "metadata": {
        "id": "0zsXQ9FwqOU5"
      },
      "outputs": [],
      "source": [
        "import pandas as pd\n",
        "\n",
        "#df=pd.read_csv('..\\data\\house_data_fs.csv', index_col = 0)\n",
        "df=pd.read_csv('house_data_fs.csv', index_col = 0)\n",
        "df = df.dropna()\n",
        "\n",
        "#X = df[['bedroom', 'sqft_living']]\n",
        "X = df[['sqft_living']]\n",
        "Y = df['price']"
      ]
    },
    {
      "cell_type": "code",
      "execution_count": null,
      "metadata": {
        "id": "AJ2SPZEDqOU8"
      },
      "outputs": [],
      "source": [
        "from sklearn.preprocessing import StandardScaler\n",
        "\n",
        "scaler = StandardScaler()\n",
        "X_scaled = scaler.fit_transform(X)"
      ]
    },
    {
      "cell_type": "code",
      "execution_count": null,
      "metadata": {
        "colab": {
          "base_uri": "https://localhost:8080/"
        },
        "id": "R9grxzJ_qOU8",
        "outputId": "4a0499c5-0344-491b-cbbc-5afddef4d4d8"
      },
      "outputs": [
        {
          "output_type": "stream",
          "name": "stdout",
          "text": [
            "[257683.89470539] 540166.7341666666\n"
          ]
        }
      ],
      "source": [
        "from sklearn.linear_model import LinearRegression\n",
        "lr = LinearRegression()\n",
        "lr.fit(X_scaled, Y)\n",
        "print(lr.coef_, lr.intercept_)"
      ]
    },
    {
      "cell_type": "code",
      "execution_count": null,
      "metadata": {
        "colab": {
          "base_uri": "https://localhost:8080/"
        },
        "id": "zNhhdxeFqOU9",
        "outputId": "7f4efe42-96be-44b3-d545-9d0c61221247"
      },
      "outputs": [
        {
          "output_type": "stream",
          "name": "stdout",
          "text": [
            "r2-score: 0.49267843569601155 \n",
            "mean squared error: 68374524780.68481 \n",
            "mean absolute error: 173712.1704967385\n"
          ]
        }
      ],
      "source": [
        "from sklearn.metrics import r2_score\n",
        "from sklearn.metrics import mean_absolute_error\n",
        "from sklearn.metrics import mean_squared_error\n",
        "\n",
        "Y_pred = lr.predict(X_scaled)\n",
        "rscore = r2_score(Y, Y_pred)\n",
        "mse = mean_squared_error(Y, Y_pred)\n",
        "mae = mean_absolute_error(Y, Y_pred)\n",
        "\n",
        "print('r2-score:', rscore, '\\nmean squared error:', mse, '\\nmean absolute error:', mae)"
      ]
    }
  ],
  "metadata": {
    "kernelspec": {
      "display_name": "Python 3",
      "language": "python",
      "name": "python3"
    },
    "language_info": {
      "codemirror_mode": {
        "name": "ipython",
        "version": 3
      },
      "file_extension": ".py",
      "mimetype": "text/x-python",
      "name": "python",
      "nbconvert_exporter": "python",
      "pygments_lexer": "ipython3",
      "version": "3.11.0 (main, Oct 24 2022, 18:26:48) [MSC v.1933 64 bit (AMD64)]"
    },
    "orig_nbformat": 4,
    "vscode": {
      "interpreter": {
        "hash": "ebfc0a8d552866b0d59eba665220a57de3bc06f3ac643b8bef38dd8f66781fdd"
      }
    },
    "colab": {
      "provenance": [],
      "include_colab_link": true
    }
  },
  "nbformat": 4,
  "nbformat_minor": 0
}