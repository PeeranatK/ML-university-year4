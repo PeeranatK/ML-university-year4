{
  "cells": [
    {
      "cell_type": "markdown",
      "metadata": {
        "id": "view-in-github",
        "colab_type": "text"
      },
      "source": [
        "<a href=\"https://colab.research.google.com/github/PeeranatK/ML-university-year4/blob/main/Lab5_test_overfitting.ipynb\" target=\"_parent\"><img src=\"https://colab.research.google.com/assets/colab-badge.svg\" alt=\"Open In Colab\"/></a>"
      ]
    },
    {
      "cell_type": "code",
      "execution_count": null,
      "metadata": {
        "id": "QYObfa1RciiS"
      },
      "outputs": [],
      "source": [
        "import pandas as pd\n",
        "import numpy as np\n",
        "import joblib\n",
        "\n",
        "from sklearn.preprocessing import PolynomialFeatures\n",
        "from sklearn.preprocessing import StandardScaler\n",
        "from sklearn.linear_model import LinearRegression\n",
        "from sklearn.metrics import mean_squared_error\n",
        "from sklearn.metrics import mean_absolute_error\n",
        "from sklearn.metrics import r2_score\n",
        "from sklearn.linear_model import Lasso\n",
        "from sklearn.linear_model import Ridge"
      ]
    },
    {
      "cell_type": "code",
      "execution_count": null,
      "metadata": {
        "colab": {
          "base_uri": "https://localhost:8080/"
        },
        "id": "hLrjKVVQciiU",
        "outputId": "175b6609-2c9a-4995-eb4a-bb68f57f2958"
      },
      "outputs": [
        {
          "output_type": "stream",
          "name": "stdout",
          "text": [
            "r2-score: -1757899660.96 \n",
            "mean squared error: 4.949422432567643e+20 \n",
            "mean absolute error: 3812285672.27\n"
          ]
        }
      ],
      "source": [
        "best_order = 20 #change to your order\n",
        "\n",
        "#df_test = pd.read_csv('..\\data\\\\test_data.csv', index_col = 0) #change to your directory\n",
        "df_test = pd.read_csv('test_data.csv', index_col = 0)\n",
        "df_test = df_test.dropna()\n",
        "y = df_test['price'].values\n",
        "\n",
        "scaler = StandardScaler()\n",
        "X_new_scaled = scaler.fit_transform(df_test['sqft_living'].values.reshape(-1,1))\n",
        "\n",
        "poly = PolynomialFeatures(degree=best_order, include_bias=False)\n",
        "X_new_poly = poly.fit_transform(X_new_scaled)\n",
        "loaded_model = joblib.load('best_model.pkl')\n",
        "y_test_pred = loaded_model.predict(X_new_poly)\n",
        "\n",
        "r2score = r2_score(y, y_test_pred)\n",
        "mse = mean_squared_error(y, y_test_pred)\n",
        "mae = mean_absolute_error(y, y_test_pred)\n",
        "\n",
        "print('r2-score:', r2score.round(2), '\\nmean squared error:', mse.round(2), '\\nmean absolute error:', mae.round(2))"
      ]
    },
    {
      "cell_type": "markdown",
      "source": [
        "Opal"
      ],
      "metadata": {
        "id": "w2TUSGqvlyos"
      }
    },
    {
      "cell_type": "code",
      "source": [
        "from sklearn.preprocessing import PolynomialFeatures\n",
        "from sklearn.model_selection import train_test_split\n",
        "from sklearn.impute import SimpleImputer\n",
        "from sklearn.pipeline import Pipeline\n",
        "from sklearn.linear_model import Lasso\n",
        "from sklearn.linear_model import Ridge\n",
        "from sklearn.model_selection import KFold\n",
        "from sklearn.model_selection import cross_val_score\n",
        "from sklearn.linear_model import LinearRegression\n",
        "from sklearn.preprocessing import StandardScaler\n",
        "\n",
        "from sklearn.metrics import r2_score\n",
        "\n",
        "#ignore warning\n",
        "def warn(*args, **kwargs):\n",
        "    pass\n",
        "import warnings\n",
        "warnings.warn = warn\n",
        "#\n",
        "best_order = 5 #change to your order\n",
        "\n",
        "#df_test = pd.read_csv('..\\data\\\\test_data.csv', index_col = 0) #change to your directory\n",
        "df_test = pd.read_csv('house_data_test.csv', index_col = 0)\n",
        "df_test = df_test.dropna()\n",
        "df1 = df_test.head(10000)\n",
        "y = df1['price'].values\n",
        "\n",
        "scaler = StandardScaler()\n",
        "x = df1[['bedrooms' , 'bathrooms' , 'sqft_living' , 'sqft_lot' , 'floors' , 'waterfront' , 'view' , 'condition' , 'grade' , 'sqft_above' , 'sqft_basement' , 'yr_built' , 'yr_renovated' , 'sqft_living15' , 'sqft_lot15'  , 'lat' , 'long']].values\n",
        "x_reshape = x.reshape(-1,17)\n",
        "X_new_scaled = scaler.fit_transform(x_reshape)\n",
        "\n",
        "poly = PolynomialFeatures(degree=best_order, include_bias=False)\n",
        "X_new_poly = poly.fit_transform(X_new_scaled)\n",
        "\n",
        "lassoReg = Lasso(alpha=25,max_iter=20000,normalize=True)\n",
        "lassoReg.fit\n",
        "\n",
        "loaded_model = joblib.load('best_model-4.pkl')\n",
        "y_test_pred = loaded_model.predict(X_new_poly)\n",
        "\n",
        "#r2score = r2_score(y, y_test_pred)\n",
        "#mse = mean_squared_error(y, y_test_pred)\n",
        "#mae = mean_absolute_error(y, y_test_pred)\n",
        "\n",
        "#print('r2-score:', r2score.round(2), '\\nmean squared error:', mse.round(2), '\\nmean absolute error:', mae.round(2))\n",
        "print(loaded_model)\n",
        "print(X_new_poly)"
      ],
      "metadata": {
        "id": "BPWduESyloHZ",
        "colab": {
          "base_uri": "https://localhost:8080/"
        },
        "outputId": "5a44376a-7043-4407-fd7f-901e800851e3"
      },
      "execution_count": null,
      "outputs": [
        {
          "output_type": "stream",
          "name": "stdout",
          "text": [
            "Pipeline(steps=[('imp_mean', SimpleImputer()), ('scaler', StandardScaler()),\n",
            "                ('transform', PolynomialFeatures(degree=5, include_bias=False)),\n",
            "                ('LassoReg', Lasso(alpha=50, max_iter=20000, normalize=True))])\n",
            "[[-3.92827024e-01  1.48237256e+00  2.56854030e+00 ...  2.35391649e-01\n",
            "  -8.33256864e-02  2.94962461e-02]\n",
            " [-3.92827024e-01 -4.66109346e-01 -6.73722768e-01 ... -2.24032276e-01\n",
            "  -7.33496966e-02 -2.40151914e-02]\n",
            " [-3.92827024e-01  1.48237256e+00  1.95455693e+00 ... -1.10414796e-01\n",
            "   1.77610739e-01 -2.85700610e-01]\n",
            " ...\n",
            " [ 6.55270692e-01  1.80711954e+00  2.64337076e-02 ... -1.18824110e+00\n",
            "   1.12216534e+00 -1.05976392e+00]\n",
            " [ 6.55270692e-01  1.83384622e-01 -2.74244829e-02 ...  7.28723076e-04\n",
            "  -2.68718745e-05  9.90908155e-07]\n",
            " [-3.92827024e-01 -1.41362362e-01  1.56620695e-02 ... -8.64184829e-02\n",
            "   8.74611451e-02 -8.85163873e-02]]\n"
          ]
        }
      ]
    },
    {
      "cell_type": "code",
      "source": [
        "from sklearn.preprocessing import PolynomialFeatures\n",
        "from sklearn.model_selection import train_test_split\n",
        "from sklearn.impute import SimpleImputer\n",
        "from sklearn.pipeline import Pipeline\n",
        "from sklearn.linear_model import Lasso\n",
        "from sklearn.linear_model import Ridge\n",
        "from sklearn.model_selection import KFold\n",
        "from sklearn.model_selection import cross_val_score\n",
        "from sklearn.linear_model import LinearRegression\n",
        "from sklearn.preprocessing import StandardScaler\n",
        "\n",
        "from sklearn.metrics import r2_score\n",
        "\n",
        "#ignore warning\n",
        "def warn(*args, **kwargs):\n",
        "    pass\n",
        "import warnings\n",
        "warnings.warn = warn\n",
        "#\n",
        "\n",
        "df_test = pd.read_csv('house_data_test.csv', index_col = 0)\n",
        "df_test = df_test.dropna()\n",
        "y = df_test['price'].values\n",
        "\n",
        "x = df1[['bedrooms' , 'bathrooms' , 'sqft_living' , 'sqft_lot' , 'floors' , 'waterfront' , 'view' , 'condition' , 'grade' , 'sqft_above' , 'sqft_basement' , 'yr_built' , 'yr_renovated' , 'sqft_living15' , 'sqft_lot15'  , 'lat' , 'long']].values\n",
        "x_reshape = x.reshape(-1,17)\n",
        "\n",
        "loaded_model = joblib.load('best_model-4.pkl')\n",
        "\n",
        "kfold = KFold(n_splits=5,shuffle=True,random_state=10)\n",
        "steps = [(\"imp_mean\",SimpleImputer()),(\"scaler\",StandardScaler()),(\"transform\",PolynomialFeatures(degree = 3)),(\"lassoReg\",Lasso(alpha=25,max_iter=20000,normalize=True))]\n",
        "pipeline = Pipeline(steps)\n",
        "#pipeline.fit(X_train,y_train)\n",
        "\n",
        "rscore = cross_val_score(loaded_model, x_reshape, y, cv = kfold, scoring = 'r2').mean()\n",
        "\n",
        "#rscore2 = cross_val_score(loaded_model, x_reshape, y, cv = kfold, scoring = 'r2').mean()\n",
        "\n",
        "#Y_pred = pipeline.predict(X_test)\n",
        "\n",
        "#mse = mean_squared_error(y, Y_pred)\n",
        "#mae = mean_absolute_error(y, Y_pred)\n",
        "#mse2 = abs(cross_val_score(pipeline, X_train, y_train, cv = kfold, scoring = 'neg_mean_squared_error')).mean()\n",
        "#mae2 = -1*cross_val_score(pipeline, X_train, y_train, cv = kfold, scoring = 'neg_mean_absolute_error').mean()\n",
        "\n",
        "#print('r2-score:', rscore.round(2), '\\nmean squared error:', mse.round(2), '\\nmean absolute error:', mae.round(2))\n",
        "#print('r2-score:', rscore.round(2), '\\nmean2 absolute error2:', mae2.round(2))\n",
        "#print('r2-score:', rscore, 'r2-score2:', rscore2, '\\nmean absolute error:', mae2.round(2))\n",
        "#print(y_train,'\\n',Y_pred)\n",
        "print('r2-score:', rscore)"
      ],
      "metadata": {
        "id": "01xyNnkHqAJK"
      },
      "execution_count": null,
      "outputs": []
    },
    {
      "cell_type": "code",
      "source": [
        "best_order = 20 #change to your order\n",
        "\n",
        "#df_test = pd.read_csv('..\\data\\\\test_data.csv', index_col = 0) #change to your directory\n",
        "df_test = pd.read_csv('house_data_test.csv', index_col = 0)\n",
        "df_test = df_test.dropna()\n",
        "y = df_test['price'].values\n",
        "x = df_test[['sqft_living' , 'sqft_lot','bedrooms','bathrooms','floors','waterfront','view','condition','grade','yr_built','yr_renovated','sqft_above', 'sqft_basement','sqft_living15' ,'sqft_lot15','lat','long']].values\n",
        "#scaler = StandardScaler()\n",
        "#X_new_scaled = scaler.fit_transform(df_test['sqft_living'].values.reshape(-1,1))\n",
        "\n",
        "#poly = PolynomialFeatures(degree=best_order, include_bias=False)\n",
        "#X_new_poly = poly.fit_transform(X_new_scaled)\n",
        "loaded_model = joblib.load('best_model-4.pkl')\n",
        "y_test_pred = loaded_model.predict(x)\n",
        "\n",
        "r2score = r2_score(y, y_test_pred)\n",
        "mse = mean_squared_error(y, y_test_pred)\n",
        "mae = mean_absolute_error(y, y_test_pred)\n",
        "\n",
        "print('r2-score:', r2score.round(2), '\\nmean squared error:', mse.round(2), '\\nmean absolute error:', mae.round(2))"
      ],
      "metadata": {
        "colab": {
          "base_uri": "https://localhost:8080/"
        },
        "id": "SDYG4UCk0hNU",
        "outputId": "9e5a745c-b1cf-4cf0-fc67-1d73f4d04a02"
      },
      "execution_count": null,
      "outputs": [
        {
          "output_type": "stream",
          "name": "stdout",
          "text": [
            "r2-score: 0.84 \n",
            "mean squared error: 22703530862.16 \n",
            "mean absolute error: 88942.93\n"
          ]
        }
      ]
    }
  ],
  "metadata": {
    "kernelspec": {
      "display_name": "Python 3",
      "language": "python",
      "name": "python3"
    },
    "language_info": {
      "codemirror_mode": {
        "name": "ipython",
        "version": 3
      },
      "file_extension": ".py",
      "mimetype": "text/x-python",
      "name": "python",
      "nbconvert_exporter": "python",
      "pygments_lexer": "ipython3",
      "version": "3.11.0 (main, Oct 24 2022, 18:26:48) [MSC v.1933 64 bit (AMD64)]"
    },
    "orig_nbformat": 4,
    "vscode": {
      "interpreter": {
        "hash": "ebfc0a8d552866b0d59eba665220a57de3bc06f3ac643b8bef38dd8f66781fdd"
      }
    },
    "colab": {
      "provenance": [],
      "include_colab_link": true
    }
  },
  "nbformat": 4,
  "nbformat_minor": 0
}